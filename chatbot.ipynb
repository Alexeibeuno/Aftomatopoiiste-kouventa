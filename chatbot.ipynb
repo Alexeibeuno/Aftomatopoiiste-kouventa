{
 "cells": [
  {
   "cell_type": "code",
   "execution_count": 24,
   "id": "ef3f23ac",
   "metadata": {},
   "outputs": [],
   "source": [
    "import numpy as np\n",
    "import random\n",
    "import string\n",
    "import nltk"
   ]
  },
  {
   "cell_type": "code",
   "execution_count": 25,
   "id": "b89b84d2",
   "metadata": {},
   "outputs": [],
   "source": [
    "f=open('dialogs.txt','r',errors='ignore')\n",
    "raw_doc=f.read()\n",
    "raw_doc=raw_doc.lower()\n",
    "#nltk.download('punkt')   #tokenizer\n",
    "#nltk.download('wordnet') # wordnet dictionary\n",
    "sent_tokens=nltk.sent_tokenize(raw_doc)\n",
    "word_tokens=nltk.word_tokenize(raw_doc)"
   ]
  },
  {
   "cell_type": "code",
   "execution_count": 26,
   "id": "a847ba94",
   "metadata": {},
   "outputs": [
    {
     "data": {
      "text/plain": [
       "['hi, how are you doing?', \"i'm fine.\"]"
      ]
     },
     "execution_count": 26,
     "metadata": {},
     "output_type": "execute_result"
    }
   ],
   "source": [
    "sent_tokens[:2]"
   ]
  },
  {
   "cell_type": "code",
   "execution_count": 27,
   "id": "395897e2",
   "metadata": {},
   "outputs": [
    {
     "data": {
      "text/plain": [
       "['hi', ',']"
      ]
     },
     "execution_count": 27,
     "metadata": {},
     "output_type": "execute_result"
    }
   ],
   "source": [
    "word_tokens[:2]"
   ]
  },
  {
   "cell_type": "code",
   "execution_count": 28,
   "id": "5808d7f7",
   "metadata": {},
   "outputs": [],
   "source": [
    "lemmer=nltk.stem.WordNetLemmatizer()\n",
    "def LemTokens(tokens):\n",
    "    return [lemmer.lemmaize(token) for token in tokens]\n",
    "remove_punt_dict=dict((ord(punct), None) for punct in string.punctuation)\n",
    "def LemNormalize(text):\n",
    "    return LemTokens(nltk.word_tokneize(text.lower().translate(remove_punct_dict)))\n"
   ]
  },
  {
   "cell_type": "markdown",
   "id": "a6653d7f",
   "metadata": {},
   "source": [
    "## Defining greeting function"
   ]
  },
  {
   "cell_type": "code",
   "execution_count": 35,
   "id": "dad98b7b",
   "metadata": {},
   "outputs": [],
   "source": [
    "greet_inputs=(\"hello\",\"hi\",\"greetings\",\"sup\",\"whats up\",\"hey\")\n",
    "greet_responses=[\"hi\",\"hey\",\"nods\",\"hi there\",\"hello\",\" I am glad! You are talking to me\"]\n",
    "def greet(sentence):\n",
    "    for word in sentence.split():\n",
    "        if word.lower() in greet_inputs:\n",
    "            return random.choice(greet_responses)\n",
    "        "
   ]
  },
  {
   "cell_type": "markdown",
   "id": "8bdf1b63",
   "metadata": {},
   "source": [
    "## Response generation"
   ]
  },
  {
   "cell_type": "code",
   "execution_count": 36,
   "id": "67488b4d",
   "metadata": {},
   "outputs": [],
   "source": [
    "#from sklearn.feature_extraction.text import TfidfVectorizer\n",
    "\n",
    "from sklearn.feature_extraction.text import TfidfVectorizer\n",
    "from sklearn.metrics.pairwise import cosine_similarity"
   ]
  },
  {
   "cell_type": "code",
   "execution_count": 37,
   "id": "441c0537",
   "metadata": {},
   "outputs": [],
   "source": [
    "def respomse(user_response):\n",
    "    robo1_response=\"\"\n",
    "    TfidVec=TfidfVectorizer(tokenizer=LemNormalize, stop_words=\"english\")\n",
    "    tfidf=TfidfVec.fit_transform(sent_tokens)\n",
    "    vals=cosine_similarity(tfidf[-1],tfidf)\n",
    "    idx=vals.argsort()[0][-2]\n",
    "    flat=vlas.flatten() \n",
    "    flat.sort()\n",
    "    req_tfidf=flat[-2]\n",
    "    if(req_tfdif==0):\n",
    "        robo1_response=robo1_response+\"I am sorry! I don't understand you\"\n",
    "        return robo1_response\n",
    "    else:\n",
    "        robo1_response=robo1_response+sent_tokens[idx]\n",
    "        return tobo1_response"
   ]
  },
  {
   "cell_type": "markdown",
   "id": "bd66b2d5",
   "metadata": {},
   "source": [
    "## Definig conversation start/end protocols"
   ]
  },
  {
   "cell_type": "code",
   "execution_count": 40,
   "id": "12196315",
   "metadata": {},
   "outputs": [
    {
     "name": "stdout",
     "output_type": "stream",
     "text": [
      "Bot: My name is af...  Let's have a converstion! Also, if you want to exit, just say bye\n",
      "hello\n",
      "BOT:hi\n",
      "bye\n",
      "BOT: goodbye! take care\n"
     ]
    }
   ],
   "source": [
    "flag=True\n",
    "print(\"Bot: My name is af...  Let's have a converstion! Also, if you want to exit, just say bye\")\n",
    "while(flag==True):\n",
    "      user_response=input()\n",
    "      user_response=user_response.lower()\n",
    "      if(user_response!=\"bye\"):\n",
    "          if (user_response==\"thanks\" or user_response==\"thank you\"):\n",
    "              flag=False\n",
    "              print(\"BOT:You are welcome..\")\n",
    "          else:\n",
    "              if(greet(user_response)!=None):\n",
    "                print(\"BOT:\"+greet(user_response))\n",
    "              else:\n",
    "                  sent_tokens.append(user_response)\n",
    "                  word_tokens=word_tokens+nltk.word_tokenize(user_response)\n",
    "                  final_words=list(set(word_tokens))\n",
    "                  print(\"BOT:\"+greet(user_response))\n",
    "                  print(response(user_response))\n",
    "                  sent_tokens.remove(user_response)\n",
    "      else:\n",
    "          flag=False\n",
    "          print(\"BOT: goodbye! take care\")\n",
    "          \n",
    "      "
   ]
  },
  {
   "cell_type": "code",
   "execution_count": null,
   "id": "c27e4bfb",
   "metadata": {},
   "outputs": [],
   "source": []
  },
  {
   "cell_type": "code",
   "execution_count": null,
   "id": "f551d428",
   "metadata": {},
   "outputs": [],
   "source": []
  }
 ],
 "metadata": {
  "kernelspec": {
   "display_name": "Python 3",
   "language": "python",
   "name": "python3"
  },
  "language_info": {
   "codemirror_mode": {
    "name": "ipython",
    "version": 3
   },
   "file_extension": ".py",
   "mimetype": "text/x-python",
   "name": "python",
   "nbconvert_exporter": "python",
   "pygments_lexer": "ipython3",
   "version": "3.8.8"
  }
 },
 "nbformat": 4,
 "nbformat_minor": 5
}
